{
  "nbformat": 4,
  "nbformat_minor": 0,
  "metadata": {
    "colab": {
      "name": "Assignment2.ipynb",
      "version": "0.3.2",
      "provenance": [],
      "collapsed_sections": []
    },
    "kernelspec": {
      "name": "python3",
      "display_name": "Python 3"
    },
    "accelerator": "GPU"
  },
  "cells": [
    {
      "cell_type": "markdown",
      "metadata": {
        "id": "RPINqgyq9zbB",
        "colab_type": "text"
      },
      "source": [
        "<h1> Install and Import"
      ]
    },
    {
      "cell_type": "code",
      "metadata": {
        "id": "0SGmmyG7-y2o",
        "colab_type": "code",
        "colab": {}
      },
      "source": [
        "!pip install PyDrive\n",
        "!pip install JSAnimation"
      ],
      "execution_count": 0,
      "outputs": []
    },
    {
      "cell_type": "code",
      "metadata": {
        "id": "odqgH1KIMSdR",
        "colab_type": "code",
        "colab": {}
      },
      "source": [
        "from pydrive.auth import GoogleAuth\n",
        "from pydrive.drive import GoogleDrive\n",
        "from google.colab import auth\n",
        "from google.colab import drive\n",
        "from oauth2client.client import GoogleCredentials\n",
        "\n",
        "import os\n",
        "import PIL\n",
        "import numpy as np\n",
        "import matplotlib.pyplot as plt\n",
        "from matplotlib import animation\n",
        "\n",
        "from JSAnimation import IPython_display"
      ],
      "execution_count": 0,
      "outputs": []
    },
    {
      "cell_type": "markdown",
      "metadata": {
        "id": "NbK098GK_mDp",
        "colab_type": "text"
      },
      "source": [
        "<h1> Tunneling to TensorBoard"
      ]
    },
    {
      "cell_type": "code",
      "metadata": {
        "id": "QR8_OpWa_q1P",
        "colab_type": "code",
        "colab": {}
      },
      "source": [
        "import os\n",
        "import requests\n",
        "import shutil\n",
        "import subprocess\n",
        "import tensorflow as tf\n",
        "\n",
        "__all__ = [\n",
        "  'install_ngrok', \n",
        "  'launch_tensorboard',\n",
        "]\n",
        "\n",
        "def __shell__(cmd, split=True):\n",
        "  # get_ipython().system_raw(cmd)\n",
        "  result = get_ipython().getoutput(cmd, split=split)\n",
        "  if result and not split:\n",
        "    result = result.strip('\\n')\n",
        "  return result\n",
        "\n",
        "def install_ngrok(bin_dir=\"/tmp\"):\n",
        "  \"\"\" download and install ngrok on local vm instance\n",
        "  Args:\n",
        "    bin_dir: full path for the target directory for the `ngrok` binary\n",
        "  \"\"\"\n",
        "  TARGET_DIR = bin_dir\n",
        "  CWD = os.getcwd()\n",
        "  is_grok_avail = os.path.isfile(os.path.join(TARGET_DIR,'ngrok'))\n",
        "  if is_grok_avail:\n",
        "    print(\"ngrok installed\")\n",
        "  else:\n",
        "    import platform\n",
        "    plat = platform.platform() # 'Linux-4.4.64+-x86_64-with-Ubuntu-17.10-artful'\n",
        "    if 'x86_64' in plat:\n",
        "      \n",
        "      os.chdir('/tmp')\n",
        "      print(\"calling wget https://bin.equinox.io/c/4VmDzA7iaHb/ngrok-stable-linux-amd64.zip ...\" )\n",
        "      get_ipython().system_raw( \"wget https://bin.equinox.io/c/4VmDzA7iaHb/ngrok-stable-linux-amd64.zip\" )\n",
        "      print(\"calling unzip ngrok-stable-linux-amd64.zip ...\")\n",
        "      get_ipython().system_raw( \"unzip ngrok-stable-linux-amd64.zip\" )\n",
        "      os.rename(\"ngrok\", \"{}/ngrok\".format(TARGET_DIR))\n",
        "      os.remove(\"ngrok-stable-linux-amd64.zip\")\n",
        "      is_grok_avail = os.path.isfile(os.path.join(TARGET_DIR,'ngrok'))\n",
        "      os.chdir(TARGET_DIR)\n",
        "      if is_grok_avail:\n",
        "        print(\"ngrok installed. path={}\".format(os.path.join(TARGET_DIR,'ngrok')))\n",
        "      else:\n",
        "        raise ValueError( \"ERROR: ngrok not found, path=\".format(TARGET_DIR) )\n",
        "    else:\n",
        "      raise NotImplementedError( \"ERROR, ngrok install not configured for this platform, platform={}\".format(plat))\n",
        "    os.chdir(CWD)\n",
        "    return\n",
        "    \n",
        "def launch_tensorboard(bin_dir=\"/tmp\", log_dir=\"/tmp\", retval=False):\n",
        "  install_ngrok(bin_dir)\n",
        "    \n",
        "  if not tf.gfile.Exists(log_dir):  tf.gfile.MakeDirs(log_dir)\n",
        "  ps = __shell__(\"ps -ax\")\n",
        "  is_tensorboard_running = len([f for f in ps if \"tensorboard\" in f ]) > 0\n",
        "  is_ngrok_running = len([f for f in ps if \"ngrok\" in f ]) > 0\n",
        "  print(\"status: tensorboard={}, ngrok={}\".format(is_tensorboard_running, is_ngrok_running))\n",
        "\n",
        "  if not is_tensorboard_running:\n",
        "    get_ipython().system_raw(\n",
        "        'tensorboard --logdir {} --host 0.0.0.0 --port 6006 &'\n",
        "        .format(log_dir)\n",
        "    )\n",
        "    is_tensorboard_running = True\n",
        "    \n",
        "  if not is_ngrok_running:\n",
        "    get_ipython().system_raw('{}/ngrok http 6006 &'.format(bin_dir))\n",
        "    is_ngrok_running = True\n",
        "  import time\n",
        "  time.sleep(3)\n",
        "  retval = requests.get('http://localhost:4040/api/tunnels')\n",
        "  tensorboard_url = retval.json()['tunnels'][0]['public_url'].strip()\n",
        "  print(\"tensorboard url=\", tensorboard_url)\n",
        "  if retval:\n",
        "    return tensorboard_url"
      ],
      "execution_count": 0,
      "outputs": []
    },
    {
      "cell_type": "code",
      "metadata": {
        "id": "m7797RzeABBy",
        "colab_type": "code",
        "colab": {}
      },
      "source": [
        "# set paths\n",
        "ROOT = %pwd\n",
        "LOG_DIR = os.path.join(ROOT, 'log1')\n",
        "\n",
        "# will install `ngrok`, if necessary\n",
        "# will create `log_dir` if path does not exist\n",
        "launch_tensorboard( bin_dir=ROOT, log_dir=LOG_DIR )"
      ],
      "execution_count": 0,
      "outputs": []
    },
    {
      "cell_type": "markdown",
      "metadata": {
        "id": "kWf7VF5S99iW",
        "colab_type": "text"
      },
      "source": [
        "<h2> Get Data from Drive"
      ]
    },
    {
      "cell_type": "code",
      "metadata": {
        "id": "N30wZgH5_nVY",
        "colab_type": "code",
        "colab": {}
      },
      "source": [
        "## connect to drive and Locally download the file\n",
        "\n",
        "auth.authenticate_user()\n",
        "gauth = GoogleAuth()\n",
        "gauth.credentials = GoogleCredentials.get_application_default()\n",
        "drive = GoogleDrive(gauth)\n",
        "\n",
        "download = drive.CreateFile({'id': '1HLYgLqxFrrWy1Q58knC85jX0PGgLgYeo'})\n",
        "download.GetContentFile('Assignment')"
      ],
      "execution_count": 0,
      "outputs": []
    },
    {
      "cell_type": "code",
      "metadata": {
        "id": "76LO-b_rAv0h",
        "colab_type": "code",
        "colab": {}
      },
      "source": [
        "!unzip ./Assignment -d ./Assignment2"
      ],
      "execution_count": 0,
      "outputs": []
    },
    {
      "cell_type": "markdown",
      "metadata": {
        "id": "aO0TrRna-EMf",
        "colab_type": "text"
      },
      "source": [
        "<h2> Dict having file names"
      ]
    },
    {
      "cell_type": "markdown",
      "metadata": {
        "id": "l8jQAMAu-LmH",
        "colab_type": "text"
      },
      "source": [
        "<h3> frames[i] contains all the images in lec i"
      ]
    },
    {
      "cell_type": "code",
      "metadata": {
        "id": "lsYLGpMOBI8N",
        "colab_type": "code",
        "colab": {}
      },
      "source": [
        "frames_dir = next(os.walk('./Assignment2/frames/'))[1]\n",
        "frames_dir.sort()\n",
        "frames = {}\n",
        "for i in range(len(frames_dir)):\n",
        "  a=next(os.walk('./Assignment2/frames/' + frames_dir[i] + '/'))[2]\n",
        "  a.sort()\n",
        "  frames[i] = ['./Assignment2/frames/' + frames_dir[i] + '/' + s for s in a]"
      ],
      "execution_count": 0,
      "outputs": []
    },
    {
      "cell_type": "markdown",
      "metadata": {
        "id": "_7MNvcTTz7pn",
        "colab_type": "text"
      },
      "source": [
        "<h1> Intial Tests"
      ]
    },
    {
      "cell_type": "code",
      "metadata": {
        "id": "67fM_d5BgqaT",
        "colab_type": "code",
        "colab": {}
      },
      "source": [
        "print(frames[2][17])\n",
        "a=PIL.Image.open(frames[2][30])\n",
        "print(type(a))\n",
        "plt.imshow(a)"
      ],
      "execution_count": 0,
      "outputs": []
    },
    {
      "cell_type": "code",
      "metadata": {
        "id": "zmoO0t8fsoOi",
        "colab_type": "code",
        "colab": {}
      },
      "source": [
        "!apt update\n",
        "!apt install tesseract-ocr\n",
        "!apt install libtesseract-dev"
      ],
      "execution_count": 0,
      "outputs": []
    },
    {
      "cell_type": "code",
      "metadata": {
        "id": "BkhKlHFvEper",
        "colab_type": "code",
        "colab": {}
      },
      "source": [
        "from difflib import SequenceMatcher as sm"
      ],
      "execution_count": 0,
      "outputs": []
    },
    {
      "cell_type": "code",
      "metadata": {
        "id": "hg-vExviyKkb",
        "colab_type": "code",
        "colab": {}
      },
      "source": [
        "import cv2\n",
        "import sys\n",
        "import pytesseract\n",
        " \n",
        "# if __name__ == '__main__':\n",
        " \n",
        "#   if len(sys.argv) < 2:\n",
        "#     print('Usage: python ocr_simple.py image.jpg')\n",
        "#     sys.exit(1)\n",
        "   \n",
        "#   # Read image path from command line\n",
        "#   imPath = sys.argv[1]\n",
        "     \n",
        "#   # Uncomment the line below to provide path to tesseract manually\n",
        "#   # pytesseract.pytesseract.tesseract_cmd = '/usr/bin/tesseract'\n",
        " \n",
        "#   # Define config parameters.\n",
        "#   # '-l eng'  for using the English language\n",
        "#   # '--oem 1' for using LSTM OCR Engine\n",
        "config = ('-l eng --oem 1 --psm 3')\n",
        " \n",
        "# Read image from disk\n",
        "im1 = cv2.imread(frames[2][70], cv2.IMREAD_COLOR)\n",
        "im2 = cv2.imread(frames[2][69], cv2.IMREAD_COLOR)\n",
        " \n",
        "# Run tesseract OCR on image\n",
        "text1 = pytesseract.image_to_string(im1, config=config)\n",
        "text2=pytesseract.image_to_string(im2, config=config)\n",
        " \n",
        "# Print recognized text\n",
        "print(frames[2][68])\n",
        "print(text1)\n",
        "print(\"LOLOLOLOLOLOLOL\")\n",
        "print(text2)\n",
        "print(sm(None,text1,text2).ratio())"
      ],
      "execution_count": 0,
      "outputs": []
    },
    {
      "cell_type": "code",
      "metadata": {
        "id": "qsEaIdAHyXlm",
        "colab_type": "code",
        "colab": {}
      },
      "source": [
        "print(frames[2][16])"
      ],
      "execution_count": 0,
      "outputs": []
    }
  ]
}