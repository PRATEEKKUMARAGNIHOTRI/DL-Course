{
  "nbformat": 4,
  "nbformat_minor": 0,
  "metadata": {
    "colab": {
      "name": "Cifar10.ipynb",
      "version": "0.3.2",
      "provenance": [],
      "collapsed_sections": [
        "ThdOLiixVXH-",
        "OLuNhV6hYJSP",
        "qxsJo6ayVeQt",
        "P9aSydvhVxJ9",
        "UE3Sp1lofWUk",
        "vywMpP6CG_SW",
        "EOwWH69iHJnM",
        "mVKD3wRYHgrw",
        "gaHaQ74OHnEH",
        "WRV7pncuIfeC",
        "NRWkonD0IuFT"
      ]
    },
    "language_info": {
      "codemirror_mode": {
        "name": "ipython",
        "version": 2
      },
      "file_extension": ".py",
      "mimetype": "text/x-python",
      "name": "python",
      "nbconvert_exporter": "python",
      "pygments_lexer": "ipython2",
      "version": "2.7.15"
    },
    "kernelspec": {
      "display_name": "Python 2",
      "language": "python",
      "name": "python2"
    },
    "accelerator": "GPU"
  },
  "cells": [
    {
      "cell_type": "markdown",
      "metadata": {
        "colab_type": "text",
        "id": "2TT4nM6zgUbS"
      },
      "source": [
        "<h1> Initial"
      ]
    },
    {
      "cell_type": "markdown",
      "metadata": {
        "colab_type": "text",
        "id": "ThdOLiixVXH-"
      },
      "source": [
        "<h2> Import and Download"
      ]
    },
    {
      "cell_type": "code",
      "metadata": {
        "colab_type": "code",
        "id": "B4818hQPTrCc",
        "colab": {}
      },
      "source": [
        "import tensorflow\n",
        "from tensorflow.keras.datasets import cifar10\n",
        "from tensorflow.keras.models import Sequential\n",
        "from tensorflow.keras.layers import Dense, Dropout, Activation, Flatten\n",
        "from tensorflow.keras.layers import Conv2D, MaxPooling2D\n",
        "from tensorflow.keras.optimizers import Adam\n",
        "from tensorflow.keras.utils import to_categorical\n",
        "import matplotlib.pyplot as plt\n",
        "import numpy as np\n",
        "\n",
        "(x_train, y_train), (x_test, y_test) = cifar10.load_data()\n",
        "\n"
      ],
      "execution_count": 0,
      "outputs": []
    },
    {
      "cell_type": "markdown",
      "metadata": {
        "colab_type": "text",
        "id": "OLuNhV6hYJSP"
      },
      "source": [
        "<h2> Visualize the data"
      ]
    },
    {
      "cell_type": "code",
      "metadata": {
        "colab_type": "code",
        "id": "eOADbdsDYIq_",
        "colab": {}
      },
      "source": [
        "print(\"x_train shape:\", x_train.shape, \"y_train shape:\", y_train.shape)\n",
        "\n",
        "\n",
        "print(x_train.shape[0], 'train set')\n",
        "print(x_test.shape[0], 'test set')\n",
        "\n",
        "\n",
        "Cifar_labels = [\"Airplane\",  # index 0\n",
        "                        \"Automobile\",      # index 1\n",
        "                        \"Bird\",     # index 2 \n",
        "                        \"Cat\",        # index 3 \n",
        "                        \"Deer\",         # index 4\n",
        "                        \"Dog\",       # index 5\n",
        "                        \"Frog\",        # index 6 \n",
        "                        \"Horse\",      # index 7 \n",
        "                        \"Ship\",          # index 8 \n",
        "                        \"Truck\"]   # index 9\n",
        "\n",
        "\n",
        "img_index = 5\n",
        "\n",
        "label_index = y_train[img_index]\n",
        "\n",
        "print (\"y = \" + str(label_index) + \" \" +(Cifar_labels[label_index[0]]))\n",
        "\n",
        "plt.imshow(x_train[img_index])"
      ],
      "execution_count": 0,
      "outputs": []
    },
    {
      "cell_type": "markdown",
      "metadata": {
        "colab_type": "text",
        "id": "qxsJo6ayVeQt"
      },
      "source": [
        "<h2> Pre-Process"
      ]
    },
    {
      "cell_type": "code",
      "metadata": {
        "colab_type": "code",
        "id": "ygnmFtWlVWS1",
        "colab": {}
      },
      "source": [
        "num_classes = 10\n",
        "\n",
        "y_train = to_categorical(y_train, num_classes)\n",
        "y_test = to_categorical(y_test, num_classes)\n",
        "\n",
        "x_train = x_train.astype('float32')\n",
        "x_test = x_test.astype('float32')\n",
        "x_train /= 255.0\n",
        "x_test /= 255.0"
      ],
      "execution_count": 0,
      "outputs": []
    },
    {
      "cell_type": "markdown",
      "metadata": {
        "colab_type": "text",
        "id": "P9aSydvhVxJ9"
      },
      "source": [
        "<h1> Classifier"
      ]
    },
    {
      "cell_type": "markdown",
      "metadata": {
        "colab_type": "text",
        "id": "LbIl1mYtgQoy"
      },
      "source": [
        "<h2> Model"
      ]
    },
    {
      "cell_type": "code",
      "metadata": {
        "colab_type": "code",
        "id": "6uYZ9tynUfkY",
        "colab": {}
      },
      "source": [
        "batch_size = 64\n",
        "epochs = 50\n",
        "model_name = 'cifar10_model'\n",
        "save_dir = '/model/' + model_name"
      ],
      "execution_count": 0,
      "outputs": []
    },
    {
      "cell_type": "code",
      "metadata": {
        "colab_type": "code",
        "id": "9R4C9JtyVMJX",
        "colab": {}
      },
      "source": [
        "model = Sequential()\n",
        "model.add(Conv2D(32, (3, 3), padding='same', input_shape=x_train.shape[1:]))\n",
        "model.add(Activation('relu'))\n",
        "model.add(MaxPooling2D(pool_size=(2, 2)))\n",
        "model.add(Dropout(0.3))\n",
        "\n",
        "model.add(Conv2D(64, (3, 3), padding='same', input_shape=x_train.shape[1:]))\n",
        "model.add(Activation('relu'))\n",
        "model.add(MaxPooling2D(pool_size=(2, 2)))\n",
        "model.add(Dropout(0.3))\n",
        "\n",
        "model.add(Conv2D(128, (3, 3), padding='same', input_shape=x_train.shape[1:]))\n",
        "model.add(Activation('relu'))\n",
        "model.add(MaxPooling2D(pool_size=(2, 2)))\n",
        "model.add(Dropout(0.4))\n",
        "\n",
        "model.add(Flatten())\n",
        "model.add(Dense(256))\n",
        "model.add(Activation('relu'))\n",
        "model.add(Dropout(0.3))\n",
        "model.add(Dense(num_classes))\n",
        "model.add(Activation('softmax'))\n",
        "\n",
        "model.summary()"
      ],
      "execution_count": 0,
      "outputs": []
    },
    {
      "cell_type": "code",
      "metadata": {
        "colab_type": "code",
        "id": "2sCYRVs3V1m1",
        "colab": {}
      },
      "source": [
        "model.compile(loss='categorical_crossentropy',\n",
        "             optimizer='adam',\n",
        "             metrics=['accuracy'])"
      ],
      "execution_count": 0,
      "outputs": []
    },
    {
      "cell_type": "markdown",
      "metadata": {
        "colab_type": "text",
        "id": "s_EXKQl5WL80"
      },
      "source": [
        "<h2> Train"
      ]
    },
    {
      "cell_type": "code",
      "metadata": {
        "colab_type": "code",
        "id": "_XN3O4d_WIk1",
        "colab": {}
      },
      "source": [
        "from tensorflow.keras.callbacks import ModelCheckpoint\n",
        "\n",
        "checkpointer = ModelCheckpoint(filepath='model_Cifar.weights.best.hdf5', verbose = 1, save_best_only=True)\n",
        "model.fit(x_train, y_train,\n",
        "          batch_size=batch_size,\n",
        "          epochs=epochs,\n",
        "          validation_split=0.1,\n",
        "          shuffle=True,\n",
        "         callbacks=[checkpointer])"
      ],
      "execution_count": 0,
      "outputs": []
    },
    {
      "cell_type": "markdown",
      "metadata": {
        "colab_type": "text",
        "id": "UE3Sp1lofWUk"
      },
      "source": [
        "<h2> Load Model with the best validation accuracy"
      ]
    },
    {
      "cell_type": "code",
      "metadata": {
        "colab_type": "code",
        "id": "m24JD2CefXnE",
        "colab": {}
      },
      "source": [
        "# Load the weights with the best validation accuracy\n",
        "model.load_weights('model_Cifar.weights.best.hdf5')"
      ],
      "execution_count": 0,
      "outputs": []
    },
    {
      "cell_type": "markdown",
      "metadata": {
        "colab_type": "text",
        "id": "wqSOm-_ifvHs"
      },
      "source": [
        "<h2> Test Accuracy"
      ]
    },
    {
      "cell_type": "code",
      "metadata": {
        "colab_type": "code",
        "id": "lH8URJuMWO5l",
        "colab": {}
      },
      "source": [
        "scores = model.evaluate(x_test, y_test, verbose=1)\n",
        "print('Test loss:', scores[0])\n",
        "print('Test accuracy:', scores[1])"
      ],
      "execution_count": 0,
      "outputs": []
    },
    {
      "cell_type": "markdown",
      "metadata": {
        "colab_type": "text",
        "id": "a_46GokyXO27"
      },
      "source": [
        "<h2> Visualize Prediction"
      ]
    },
    {
      "cell_type": "code",
      "metadata": {
        "colab_type": "code",
        "id": "ZmcOqrcAXCJT",
        "outputId": "d888b522-6b98-41b3-c645-b943eef347f9",
        "colab": {
          "base_uri": "https://localhost:8080/",
          "height": 505
        }
      },
      "source": [
        "import matplotlib.pyplot as plt\n",
        "\n",
        "y_hat = model.predict(x_test)\n",
        "\n",
        "# Plot a random sample of 10 test images, their predicted labels and ground truth\n",
        "figure = plt.figure(figsize=(20, 8))\n",
        "for i, index in enumerate(np.random.choice(x_test.shape[0], size=15, replace=False)):\n",
        "    ax = figure.add_subplot(3, 5, i + 1, xticks=[], yticks=[])\n",
        "    # Display each image\n",
        "    ax.imshow(np.squeeze(x_test[index]))\n",
        "    predict_index = np.argmax(y_hat[index])\n",
        "    true_index = np.argmax(y_test[index])\n",
        "    # Set the title for each image\n",
        "    ax.set_title(\"{} ({})\".format(Cifar_labels[predict_index], \n",
        "                                  Cifar_labels[true_index]),\n",
        "                                  color=(\"green\" if predict_index == true_index else \"red\"))"
      ],
      "execution_count": 0,
      "outputs": [
        {
          "output_type": "display_data",
          "data": {
            "image/png": "[encoded data removed]",
            "text/plain": [
              "<Figure size 1440x576 with 15 Axes>"
            ]
          },
          "metadata": {
            "tags": []
          }
        }
      ]
    },
    {
      "cell_type": "markdown",
      "metadata": {
        "colab_type": "text",
        "id": "vywMpP6CG_SW"
      },
      "source": [
        "<h1> Lipschitz Constrained Classifier"
      ]
    },
    {
      "cell_type": "markdown",
      "metadata": {
        "colab_type": "text",
        "id": "EOwWH69iHJnM"
      },
      "source": [
        "<h2> Outputs of Pre-final layer (i.e. just before softmax)"
      ]
    },
    {
      "cell_type": "code",
      "metadata": {
        "colab_type": "code",
        "id": "EgMFdM3Bgfi6",
        "colab": {}
      },
      "source": [
        "get_12th_layer_output = K.function([model.layers[0].input],\n",
        "                                  [model.layers[9].output])\n",
        "layer_output = get_12th_layer_output([x_train])[0]\n",
        "np.save(\"output.npy\", layer_output)"
      ],
      "execution_count": 0,
      "outputs": []
    },
    {
      "cell_type": "markdown",
      "metadata": {
        "colab_type": "text",
        "id": "mVKD3wRYHgrw"
      },
      "source": [
        "<h2>A custom layer to apply Lipscitz Constrain"
      ]
    },
    {
      "cell_type": "code",
      "metadata": {
        "colab_type": "code",
        "id": "b4DLbiRXHhWU",
        "colab": {}
      },
      "source": [
        "class SpectralDecay(Regularizer):\n",
        "    \n",
        "    def __init__(self, sd_lambda, iterations=2):\n",
        "        self.sd_lambda = sd_lambda\n",
        "        self.iterations = iterations\n",
        "    \n",
        "    def __call__(self, w):\n",
        "        if self.sd_lambda == 0:\n",
        "            return 0\n",
        "        else:\n",
        "            w = K.reshape(w, [-1, w.shape.as_list()[-1]])\n",
        "            x = K.random_normal_variable(shape=(int(w.shape[1]), 1), mean=0, scale=1)\n",
        "\n",
        "            for i in range(0, self.iterations): \n",
        "                x_p = K.dot(w, x)\n",
        "                x = K.dot(K.transpose(w), x_p)\n",
        "            \n",
        "            return self.sd_lambda * K.sum(K.pow(K.dot(w, x), 2.0)) / K.sum(K.pow(x, 2.0))\n",
        "    \n",
        "    def get_config(self):\n",
        "        return {\n",
        "            \"sd_lambda\": self.sd_lambda,\n",
        "            \"iterations\": self.iterations\n",
        "        }"
      ],
      "execution_count": 0,
      "outputs": []
    },
    {
      "cell_type": "markdown",
      "metadata": {
        "colab_type": "text",
        "id": "gaHaQ74OHnEH"
      },
      "source": [
        "<h2> Model"
      ]
    },
    {
      "cell_type": "code",
      "metadata": {
        "colab_type": "code",
        "id": "3O2A-1NEHleQ",
        "colab": {}
      },
      "source": [
        "batch_size = 64\n",
        "epochs = 50\n",
        "model_name = 'cifar10_model'\n",
        "save_dir = '/model/' + model_name\n",
        "\n",
        "model = Sequential()\n",
        "model.add(Conv2D(32, (3, 3), padding='same', input_shape=x_train.shape[1:]))\n",
        "model.add(SpectralDecay())\n",
        "model.add(Activation('relu'))\n",
        "model.add(MaxPooling2D(pool_size=(2, 2)))\n",
        "model.add(Dropout(0.3))\n",
        "\n",
        "model.add(Conv2D(64, (3, 3), padding='same', input_shape=x_train.shape[1:]))\n",
        "model.add(SpectralDecay())\n",
        "model.add(Activation('relu'))\n",
        "model.add(MaxPooling2D(pool_size=(2, 2)))\n",
        "model.add(Dropout(0.3))\n",
        "\n",
        "model.add(Conv2D(128, (3, 3), padding='same', input_shape=x_train.shape[1:]))\n",
        "model.add(SpectralDecay())\n",
        "model.add(Activation('relu'))\n",
        "model.add(MaxPooling2D(pool_size=(2, 2)))\n",
        "model.add(Dropout(0.4))\n",
        "\n",
        "model.add(Flatten())\n",
        "model.add(Dense(256))\n",
        "model.add(SpectralDecay())\n",
        "model.add(Activation('relu'))\n",
        "model.add(Dropout(0.3))\n",
        "model.add(Dense(num_classes))\n",
        "model.add(Activation('softmax'))\n",
        "\n",
        "model.summary()"
      ],
      "execution_count": 0,
      "outputs": []
    },
    {
      "cell_type": "markdown",
      "metadata": {
        "colab_type": "text",
        "id": "WRV7pncuIfeC"
      },
      "source": [
        "<h2> Train"
      ]
    },
    {
      "cell_type": "code",
      "metadata": {
        "colab_type": "code",
        "id": "LgA__mCAIgKm",
        "colab": {}
      },
      "source": [
        "model.compile(loss='mean_squared_error',\n",
        "             optimizer='adam'\n",
        "             )\n",
        "\n",
        "\n",
        "from tensorflow.keras.callbacks import ModelCheckpoint\n",
        "\n",
        "checkpointer = ModelCheckpoint(filepath='model_fmnist.weights.best.hdf5', verbose = 1, save_best_only=True)\n",
        "model.fit(x_train,layer_output ,\n",
        "          batch_size=batch_size,\n",
        "          epochs=epochs,\n",
        "          validation_split=0.1,\n",
        "          shuffle=True,\n",
        "         callbacks=[checkpointer])"
      ],
      "execution_count": 0,
      "outputs": []
    },
    {
      "cell_type": "markdown",
      "metadata": {
        "colab_type": "text",
        "id": "0knNWkVtIj97"
      },
      "source": [
        "<h1> Attacks"
      ]
    },
    {
      "cell_type": "markdown",
      "metadata": {
        "colab_type": "text",
        "id": "NRWkonD0IuFT"
      },
      "source": [
        "<h2>FGSM"
      ]
    },
    {
      "cell_type": "code",
      "metadata": {
        "colab_type": "code",
        "id": "xepBfwwWIp0O",
        "colab": {}
      },
      "source": [
        "sess = K.get_session()\n",
        "# Initialize adversarial example with input image\n",
        "x_adv = x_train[100]\n",
        "# Added noise\n",
        "x_noise = np.zeros_like(x)\n",
        "\n",
        "# Choose target class\n",
        "epsilon = 0.1\n",
        "target_class = 0 \n",
        "prev_probs = []"
      ],
      "execution_count": 0,
      "outputs": []
    },
    {
      "cell_type": "code",
      "metadata": {
        "colab_type": "code",
        "id": "ePlKtDGyOelH",
        "colab": {}
      },
      "source": [
        "step_size = 0.05\n",
        "\n",
        "target = K.one_hot(target_class, 10)\n",
        "\n",
        "loss = -1*K.categorical_crossentropy(target, model.output)\n",
        "\n",
        "grads = K.gradients(loss, model.input)\n",
        "\n",
        "delta = K.sign(grads[0])\n",
        "\n",
        "x_noise = x_noise + delta\n",
        "\n",
        "\n",
        "x_adv = x_adv + epsilon*delta\n",
        "\n",
        "# Get the new image and predictions\n",
        "x_adv = sess.run(x_adv, feed_dict={model.input:x})\n",
        "preds = model.predict(x_adv)\n",
        "\n",
        "Ad_img = image + noise\n",
        "Ad_img = np.clip(a=noisy_img, a_min=0.0, a_max=1.0)\n",
        "gradients = k.gradients(loss, noise)\n",
        "noise -= step_size*gradients"
      ],
      "execution_count": 0,
      "outputs": []
    },
    {
      "cell_type": "markdown",
      "metadata": {
        "colab_type": "text",
        "id": "A7Us_HBHIyen"
      },
      "source": [
        "<h2> Carlini-Wagner Attack"
      ]
    },
    {
      "cell_type": "code",
      "metadata": {
        "colab_type": "code",
        "id": "X8XIyCyjI2d9",
        "colab": {}
      },
      "source": [
        "MAX_ITERATIONS = 1000   \n",
        "ABORT_EARLY = True      \n",
        "LEARNING_RATE = 1e-2    \n",
        "INITIAL_CONST = 1e-3    \n",
        "LARGEST_CONST = 2e6     \n",
        "REDUCE_CONST = False    \n",
        "TARGETED = True         \n",
        "CONST_FACTOR = 2.0      "
      ],
      "execution_count": 0,
      "outputs": []
    },
    {
      "cell_type": "code",
      "metadata": {
        "colab_type": "code",
        "id": "xA2DUajiPNxE",
        "colab": {}
      },
      "source": [
        "class CarliniL0:\n",
        "    def __init__(self, sess, model,\n",
        "                 targeted = TARGETED, learning_rate = LEARNING_RATE,\n",
        "                 max_iterations = MAX_ITERATIONS, abort_early = ABORT_EARLY,\n",
        "                 initial_const = INITIAL_CONST, largest_const = LARGEST_CONST,\n",
        "                 reduce_const = REDUCE_CONST, const_factor = CONST_FACTOR,\n",
        "                 independent_channels = False):\n",
        "        self.model = model\n",
        "        self.sess = sess\n",
        "\n",
        "        self.TARGETED = targeted\n",
        "        self.LEARNING_RATE = learning_rate\n",
        "        self.MAX_ITERATIONS = max_iterations\n",
        "        self.ABORT_EARLY = abort_early\n",
        "        self.INITIAL_CONST = initial_const\n",
        "        self.LARGEST_CONST = largest_const\n",
        "        self.REDUCE_CONST = reduce_const\n",
        "        self.const_factor = const_factor\n",
        "        self.independent_channels = independent_channels\n",
        "\n",
        "        self.I_KNOW_WHAT_I_AM_DOING_AND_WANT_TO_OVERRIDE_THE_PRESOFTMAX_CHECK = False\n",
        "\n",
        "        self.grad = self.gradient_descent(sess, model)\n",
        "\n",
        "    def gradient_descent(self, sess, model):\n",
        "        def compare(x,y):\n",
        "            if self.TARGETED:\n",
        "                return x == y\n",
        "            else:\n",
        "                return x != y\n",
        "        shape = (1,model.image_size,model.image_size,model.num_channels)\n",
        "        \n",
        "        # the variable to optimize over\n",
        "        modifier = tf.Variable(np.zeros(shape,dtype=np.float32))\n",
        "\n",
        "        # the variables we're going to hold, use for efficiency\n",
        "        canchange = tf.Variable(np.zeros(shape),dtype=np.float32)\n",
        "        simg = tf.Variable(np.zeros(shape,dtype=np.float32))\n",
        "        original = tf.Variable(np.zeros(shape,dtype=np.float32))\n",
        "        timg = tf.Variable(np.zeros(shape,dtype=np.float32))\n",
        "        tlab = tf.Variable(np.zeros((1,model.num_labels),dtype=np.float32))\n",
        "        const = tf.placeholder(tf.float32, [])\n",
        "\n",
        "        # and the assignment to set the variables\n",
        "        assign_modifier = tf.placeholder(np.float32,shape)\n",
        "        assign_canchange = tf.placeholder(np.float32,shape)\n",
        "        assign_simg = tf.placeholder(np.float32,shape)\n",
        "        assign_original = tf.placeholder(np.float32,shape)\n",
        "        assign_timg = tf.placeholder(np.float32,shape)\n",
        "        assign_tlab = tf.placeholder(np.float32,(1,self.model.num_labels))\n",
        "\n",
        "        # these are the variables to initialize when we run\n",
        "        set_modifier = tf.assign(modifier, assign_modifier)\n",
        "        setup = []\n",
        "        setup.append(tf.assign(canchange, assign_canchange))\n",
        "        setup.append(tf.assign(timg, assign_timg))\n",
        "        setup.append(tf.assign(original, assign_original))\n",
        "        setup.append(tf.assign(simg, assign_simg))\n",
        "        setup.append(tf.assign(tlab, assign_tlab))\n",
        "        \n",
        "        newimg = (tf.tanh(modifier + simg)/2)*canchange+(1-canchange)*original\n",
        "        \n",
        "        output = model.predict(newimg)\n",
        "        \n",
        "        real = tf.reduce_sum((tlab)*output,1)\n",
        "        other = tf.reduce_max((1-tlab)*output - (tlab*10000),1)\n",
        "        if self.TARGETED:\n",
        "            # if targetted, optimize for making the other class most likely\n",
        "            loss1 = tf.maximum(0.0, other-real+.01)\n",
        "        else:\n",
        "            # if untargeted, optimize for making this class least likely.\n",
        "            loss1 = tf.maximum(0.0, real-other+.01)\n",
        "            \n",
        "        loss2 = tf.reduce_sum(tf.square(newimg-tf.tanh(timg)/2))\n",
        "        loss = const*loss1+loss2\n",
        "            \n",
        "        outgrad = tf.gradients(loss, [modifier])[0]\n",
        "        \n",
        "        # setup the adam optimizer and keep track of variables we're creating\n",
        "        start_vars = set(x.name for x in tf.global_variables())\n",
        "        optimizer = tf.train.AdamOptimizer(self.LEARNING_RATE)\n",
        "        train = optimizer.minimize(loss, var_list=[modifier])\n",
        "\n",
        "        end_vars = tf.global_variables()\n",
        "        new_vars = [x for x in end_vars if x.name not in start_vars]\n",
        "        init = tf.variables_initializer(var_list=[modifier,canchange,simg,\n",
        "                                                  original,timg,tlab]+new_vars)\n",
        "\n",
        "        \n",
        "        def doit(oimgs, labs, starts, valid, CONST):\n",
        "            # convert to tanh-space\n",
        "            imgs = np.arctanh(np.array(oimgs)*1.999999)\n",
        "            starts = np.arctanh(np.array(starts)*1.999999)\n",
        "\n",
        "            # initialize the variables\n",
        "            sess.run(init)\n",
        "            sess.run(setup, {assign_timg: imgs, \n",
        "                                    assign_tlab:labs, \n",
        "                                    assign_simg: starts, \n",
        "                                    assign_original: oimgs,\n",
        "                                    assign_canchange: valid})\n",
        "\n",
        "            while CONST < self.LARGEST_CONST:\n",
        "                # try solving for each value of the constant\n",
        "                print('try const', CONST)\n",
        "                for step in range(self.MAX_ITERATIONS):\n",
        "                    feed_dict={const: CONST}\n",
        "                    \n",
        "            # remember the old value\n",
        "                    oldmodifier = self.sess.run(modifier)\n",
        "\n",
        "                    if step%(self.MAX_ITERATIONS//10) == 0:\n",
        "                        print(step,*sess.run((loss1,loss2),feed_dict=feed_dict))\n",
        "\n",
        "                    # perform the update step\n",
        "                    _, works, scores = sess.run([train, loss1, output], feed_dict=feed_dict)\n",
        "\n",
        "                    if np.all(scores>=-.0001) and np.all(scores <= 1.0001):\n",
        "                        if np.allclose(np.sum(scores,axis=1), 1.0, atol=1e-3):\n",
        "                            if not self.I_KNOW_WHAT_I_AM_DOING_AND_WANT_TO_OVERRIDE_THE_PRESOFTMAX_CHECK:\n",
        "                                raise Exception(\"The output of model.predict should return the pre-softmax layer. It looks like you are returning the probability vector (post-softmax). If you are sure you want to do that, set attack.I_KNOW_WHAT_I_AM_DOING_AND_WANT_TO_OVERRIDE_THE_PRESOFTMAX_CHECK = True\")\n",
        "                    \n",
        "                    if works < .0001 and self.ABORT_EARLY:\n",
        "                        # it worked previously, restore the old value and finish\n",
        "                        self.sess.run(set_modifier, {assign_modifier: oldmodifier})\n",
        "                        grads, scores, nimg = sess.run((outgrad, output,newimg),\n",
        "                                                       feed_dict=feed_dict)\n",
        "\n",
        "                        l2s=np.square(nimg-np.tanh(imgs)/2).sum(axis=(1,2,3))\n",
        "                        return grads, scores, nimg, CONST\n",
        "\n",
        "                # we didn't succeed, increase constant and try again\n",
        "                CONST *= self.const_factor\n",
        "        return doit\n",
        "        \n",
        "    def attack(self, imgs, targets):\n",
        "        r = []\n",
        "        for i,(img,target) in enumerate(zip(imgs, targets)):\n",
        "            print(\"Attack iteration\",i)\n",
        "            r.extend(self.attack_single(img, target))\n",
        "        return np.array(r)\n",
        "\n",
        "    def attack_single(self, img, target):\n",
        "        \"\"\"\n",
        "        Run the attack on a single image and label\n",
        "        \"\"\"\n",
        "\n",
        "        # the pixels we can change\n",
        "        valid = np.ones((1,self.model.image_size,self.model.image_size,self.model.num_channels))\n",
        "\n",
        "        # the previous image\n",
        "        prev = np.copy(img).reshape((1,self.model.image_size,self.model.image_size,\n",
        "                                     self.model.num_channels))\n",
        "\n",
        "        # initially set the solution to None, if we can't find an adversarial\n",
        "        # example then we will return None as the solution.\n",
        "        last_solution = None\n",
        "        const = self.INITIAL_CONST\n",
        "\n",
        "        equal_count = None\n",
        "    \n",
        "        while True:\n",
        "            # try to solve given this valid map\n",
        "            res = self.grad([np.copy(img)], [target], np.copy(prev), \n",
        "                       valid, const)\n",
        "            if res == None:\n",
        "                # the attack failed, we return this as our final answer\n",
        "                print(\"Final answer\",equal_count)\n",
        "                return last_solution\n",
        "    \n",
        "            # the attack succeeded, now we pick new pixels to set to 0\n",
        "            restarted = False\n",
        "            gradientnorm, scores, nimg, const = res\n",
        "            if self.REDUCE_CONST: const /= 2\n",
        "    \n",
        "            equal_count = self.model.image_size**2-np.sum(np.all(np.abs(img-nimg[0])<.0001,axis=2))\n",
        "            print(\"Forced equal:\",np.sum(1-valid),\n",
        "                  \"Equal count:\",equal_count)\n",
        "            if np.sum(valid) == 0:\n",
        "                # if no pixels changed, return \n",
        "                return [img]\n",
        "    \n",
        "            if self.independent_channels:\n",
        "                # we are allowed to change each channel independently\n",
        "                valid = valid.flatten()\n",
        "                totalchange = abs(nimg[0]-img)*np.abs(gradientnorm[0])\n",
        "            else:\n",
        "                # we care only about which pixels change, not channels independently\n",
        "                # compute total change as sum of change for each channel\n",
        "                valid = valid.reshape((self.model.image_size**2,self.model.num_channels))\n",
        "                totalchange = abs(np.sum(nimg[0]-img,axis=2))*np.sum(np.abs(gradientnorm[0]),axis=2)\n",
        "            totalchange = totalchange.flatten()\n",
        "\n",
        "            # set some of the pixels to 0 depending on their total change\n",
        "            did = 0\n",
        "            for e in np.argsort(totalchange):\n",
        "                if np.all(valid[e]):\n",
        "                    did += 1\n",
        "                    valid[e] = 0\n",
        "\n",
        "                    if totalchange[e] > .01:\n",
        "                        # if this pixel changed a lot, skip\n",
        "                        break\n",
        "                    if did >= .3*equal_count**.5:\n",
        "                        # if we changed too many pixels, skip\n",
        "                        break\n",
        "\n",
        "            valid = np.reshape(valid,(1,self.model.image_size,self.model.image_size,-1))\n",
        "            print(\"Now forced equal:\",np.sum(1-valid))\n",
        "    \n",
        "            last_solution = prev = nimg"
      ],
      "execution_count": 0,
      "outputs": []
    }
  ]
}